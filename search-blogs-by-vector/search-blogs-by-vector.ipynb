{
 "cells": [
  {
   "cell_type": "code",
   "execution_count": null,
   "id": "4f51b900-ac24-4cf0-ae2b-6fc6f3ce5b8f",
   "metadata": {},
   "outputs": [],
   "source": [
    "import pandas as pd\n",
    "\n",
    "posts = pd.read_csv('blog-with-embeddings.csv', delimiter=',', quotechar='\"', converters={'embedding': pd.eval})\n",
    "posts.head()"
   ]
  },
  {
   "cell_type": "code",
   "execution_count": null,
   "id": "5fa8c493-ee34-4c18-baf1-a2f0a975a25a",
   "metadata": {},
   "outputs": [],
   "source": [
    "import redis\n",
    "from redis.commands.search.field import (TextField, VectorField)\n",
    "from redis.commands.search.indexDefinition import (IndexDefinition, IndexType)\n",
    "\n",
    "# Create a Redis client communicating with the local Dragonfly instance.\n",
    "client = redis.Redis()\n",
    "\n",
    "# Create an index 'posts', using the TEXT type for 'title', and the VECTOR type for 'embedding'.\n",
    "client.ft(\"posts\").create_index(\n",
    "        fields = [TextField(\"title\"), VectorField(\"embedding\", \"FLAT\", {\"DIM\": \"1536\"})],\n",
    "        definition = IndexDefinition(prefix=[\"post:\"], index_type=IndexType.HASH)\n",
    ")"
   ]
  },
  {
   "cell_type": "code",
   "execution_count": null,
   "id": "b526ef68-a4eb-4e02-92f3-d494320ed660",
   "metadata": {},
   "outputs": [],
   "source": [
    "import numpy as np\n",
    "\n",
    "# Store blog post data as HASH values in Dragonfly.\n",
    "# Since the index is created for all keys with the 'post:' prefix, these documents will be indexed.\n",
    "for i, post in posts.iterrows():\n",
    "    embedding_bytes = np.array(post['embedding']).astype(np.float32).tobytes()\n",
    "    client.hset(f\"post:{i}\", mapping={**post, 'embedding': embedding_bytes})"
   ]
  },
  {
   "cell_type": "code",
   "execution_count": null,
   "id": "6ac91061-a9a5-4224-8cf6-0a7d3f4e6411",
   "metadata": {},
   "outputs": [],
   "source": [
    "from redis.commands.search.query import Query\n",
    "import openai\n",
    "\n",
    "# How to get an OpenAI API key: https://platform.openai.com/docs/api-reference/introduction\n",
    "# NOTE: Do not share your API key with anyone, do not commit it to git, do not hardcode it in your code.\n",
    "openai.api_key = \"{YOUR_OPENAI_API_KEY}\"\n",
    "EMBEDDING_MODEL = \"text-embedding-ada-002\"\n",
    "\n",
    "# Create a vector for a query string using the OpenAI API.\n",
    "query = \"How to switch from a multi node redis setup to Dragonfly\"\n",
    "query_vec = openai.embeddings.create(input=query, model=EMBEDDING_MODEL).data[0].embedding\n",
    "\n",
    "# Compose a search query for Dragonfly.\n",
    "query_expr = Query(\"*=>[KNN 3 @embedding $query_vector AS vector_score]\").return_fields(\"title\", \"vector_score\").paging(0, 30)\n",
    "params = {\"query_vector\": np.array(query_vec).astype(dtype=np.float32).tobytes()}\n",
    "\n",
    "# Search by query.\n",
    "docs = client.ft(\"posts\").search(query_expr, params).docs\n",
    "for i, doc in enumerate(docs):\n",
    "    print(i+1, doc.vector_score, doc.title)"
   ]
  },
  {
   "cell_type": "code",
   "execution_count": null,
   "id": "50bd113c-c48a-4554-bc32-6847dbe4395a",
   "metadata": {},
   "outputs": [],
   "source": [
    "# Get index information.\n",
    "client.ft(\"posts\").info()"
   ]
  }
 ],
 "metadata": {
  "kernelspec": {
   "display_name": "Python 3 (ipykernel)",
   "language": "python",
   "name": "python3"
  },
  "language_info": {
   "codemirror_mode": {
    "name": "ipython",
    "version": 3
   },
   "file_extension": ".py",
   "mimetype": "text/x-python",
   "name": "python",
   "nbconvert_exporter": "python",
   "pygments_lexer": "ipython3",
   "version": "3.11.4"
  }
 },
 "nbformat": 4,
 "nbformat_minor": 5
}
